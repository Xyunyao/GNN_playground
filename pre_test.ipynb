{
 "cells": [
  {
   "cell_type": "code",
   "execution_count": 3,
   "id": "c44ab07e-11fc-498e-8299-fba1c065678e",
   "metadata": {},
   "outputs": [],
   "source": [
    "import data_preprocess\n",
    "from data_preprocess import MoleculeNetDataset"
   ]
  },
  {
   "cell_type": "code",
   "execution_count": 4,
   "id": "0af57bce-6a04-4b7a-8834-8662682a2019",
   "metadata": {},
   "outputs": [],
   "source": [
    "data=MoleculeNetDataset('../HIV_data', 'HIV')"
   ]
  },
  {
   "cell_type": "code",
   "execution_count": 12,
   "id": "5d1e7341-888a-4e81-8e87-20c692c26bc1",
   "metadata": {},
   "outputs": [
    {
     "data": {
      "text/plain": [
       "Data(x=[19, 9], edge_index=[2, 40], edge_attr=[40, 2], y=[1], smiles='CCC1=[O+][Cu-3]2([O+]=C(CC)C1)[O+]=C(CC)CC(CC)=[O+]2')"
      ]
     },
     "execution_count": 12,
     "metadata": {},
     "output_type": "execute_result"
    }
   ],
   "source": [
    "data[0]"
   ]
  },
  {
   "cell_type": "code",
   "execution_count": 1,
   "id": "2f509585-9980-4d38-8762-b7b1da5f925c",
   "metadata": {},
   "outputs": [],
   "source": [
    "import model_prototype\n",
    "from model_prototype import Molecule_GNN"
   ]
  },
  {
   "cell_type": "code",
   "execution_count": 23,
   "id": "053f19f7-7a68-4939-94ca-fed36d2c7e6a",
   "metadata": {},
   "outputs": [],
   "source": [
    "\n",
    "from model_prototype import Molecule_GNN"
   ]
  },
  {
   "cell_type": "code",
   "execution_count": 5,
   "id": "3e799a80-3d9b-4362-934e-ca6590a459d3",
   "metadata": {},
   "outputs": [],
   "source": [
    "model_params={}\n",
    "model_params['node_embedding']=9\n",
    "model_params['edge_embedding']=2\n",
    "model_params['num_classes']=2\n",
    "model_params['num_layers']=3\n",
    "model_params['hidden_channels']=16\n",
    "model_params['dropout']=0.2\n",
    "model_params['heads']=3\n",
    "\n",
    "model_1 =Molecule_GNN(model_params)"
   ]
  },
  {
   "cell_type": "code",
   "execution_count": 7,
   "id": "aa8587c8-3e51-4fcc-aab4-8505370e272c",
   "metadata": {},
   "outputs": [
    {
     "data": {
      "text/plain": [
       "Molecule_GNN(\n",
       "  (lin1): Linear(in_features=9, out_features=32, bias=True)\n",
       "  (lin2): Linear(in_features=32, out_features=16, bias=True)\n",
       "  (conv_layers): ModuleList(\n",
       "    (0): GATConv(48, 16, heads=3)\n",
       "    (1): GATConv(48, 16, heads=3)\n",
       "  )\n",
       "  (batch_norms): ModuleList(\n",
       "    (0): BatchNorm1d(48, eps=1e-05, momentum=0.1, affine=True, track_running_stats=True)\n",
       "    (1): BatchNorm1d(48, eps=1e-05, momentum=0.1, affine=True, track_running_stats=True)\n",
       "  )\n",
       "  (conv1): GATConv(16, 16, heads=3)\n",
       "  (batch_norm1): BatchNorm1d(48, eps=1e-05, momentum=0.1, affine=True, track_running_stats=True)\n",
       "  (lin3): Linear(in_features=48, out_features=16, bias=True)\n",
       "  (lin4): Linear(in_features=16, out_features=2, bias=True)\n",
       ")"
      ]
     },
     "execution_count": 7,
     "metadata": {},
     "output_type": "execute_result"
    }
   ],
   "source": [
    "model_1"
   ]
  },
  {
   "cell_type": "code",
   "execution_count": 8,
   "id": "6b2ef8f0-d0ae-457c-8eba-495b5bad5ba1",
   "metadata": {},
   "outputs": [
    {
     "name": "stdout",
     "output_type": "stream",
     "text": [
      "Trainable parameters: 7762\n",
      "Non-trainable parameters: 0\n"
     ]
    }
   ],
   "source": [
    "def count_parameters(model):\n",
    "    trainable_params = sum(p.numel() for p in model.parameters() if p.requires_grad)\n",
    "    non_trainable_params = sum(p.numel() for p in model.parameters() if not p.requires_grad)\n",
    "    \n",
    "    print(f\"Trainable parameters: {trainable_params}\")\n",
    "    print(f\"Non-trainable parameters: {non_trainable_params}\")\n",
    "\n",
    "count_parameters(model_1)"
   ]
  },
  {
   "cell_type": "code",
   "execution_count": null,
   "id": "c536e34c-0afe-4217-aedf-567ac0a59351",
   "metadata": {},
   "outputs": [],
   "source": []
  }
 ],
 "metadata": {
  "kernelspec": {
   "display_name": "pytorch(env)",
   "language": "python",
   "name": "pytroch_kern"
  },
  "language_info": {
   "codemirror_mode": {
    "name": "ipython",
    "version": 3
   },
   "file_extension": ".py",
   "mimetype": "text/x-python",
   "name": "python",
   "nbconvert_exporter": "python",
   "pygments_lexer": "ipython3",
   "version": "3.8.18"
  }
 },
 "nbformat": 4,
 "nbformat_minor": 5
}
